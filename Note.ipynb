{
 "cells": [
  {
   "cell_type": "markdown",
   "metadata": {},
   "source": [
    "# Curso de Estadística Computacional con Python\n",
    "\n",
    "![Portada](images/Portada.jpeg)\n",
    "\n",
    "# Tabla de Contenido\n",
    "- [Programación dinámica](#programación-dinámica)\n",
    "    - [Optimzación Fibonnaci](#optimización-de-fibonacci)\n",
    "        - [Optimización Especial](#optimización-especial)\n",
    "        - [Código](#código)\n",
    "    - [Caminos Aleatorios](#caminos-aleatorios)\n",
    "        - [Resultados](#resultado-de-la-simulacion)\n",
    "        - [Código](#códigos-del-borracho)\n",
    "        - [Aporte solo pasos del borracho](#código-para-solo-observar-los-pasos-del-borracho)\n",
    "- [Procesos Estocásticos](#procesos-estocásticos)\n",
    "- [Monte Carlos](#monte-carlos)\n",
    "- [Muestreo e Intervalos de Confianza](#muestro-e-intervalos-de-confianza)\n",
    "- [Datos experimentales](#datos-experimentales)\n",
    "- [Conclusiones](#conclusiones)\n",
    "\n",
    "\n",
    "# Programación dinámica\n",
    "\n",
    "**Programación dinámica:** Se escogió para esconder a patrocinadores gubernamentales el hecho que en realidad estaba haciendo Matemáticas. La frase Programación Dinámica es algo que ningún congresista puede oponerse. **Richard Bellman**\n",
    "\n",
    "**Programación dinámica:**\n",
    "- Subsestructura Óptima: Una solución global óptima se puede encontrar al combinar soluciones óptimas de subproblemas locales.\n",
    "- Problemas empalmados: Una solución óptima que involucra resolver el mismo problema en varias ocasiones.\n",
    "\n",
    "**Memoization:**\n",
    "- La memorización es una técnica para guardar cómputos previos y evitar realizarlos nuevamente.\n",
    "- Normalmente se utiliza un diccionario, donde las consultas se pueden hacer en O(1).\n",
    "- Intercambia tiempo por espacio.\n",
    "\n",
    "> Ventaja de consulta de los Sets y Dict de O(1)."
   ]
  },
  {
   "cell_type": "markdown",
   "metadata": {},
   "source": [
    "## Optimización de Fibonacci\n",
    "\n",
    "$$F_n = F_{n-1} + F_{n-2} \\quad \\forall~n > 2$$\n",
    "\n",
    "![Fibonacci](images/Fibonnaci.png)\n",
    "\n",
    "Pero el algoritmo recursivo es ineficiente, debido a que crece de manera exponencial el tiempo de cómputo.\n",
    "\n",
    "> **Hint:** Para medir tiempo de ejecución desde consola (Mi sistema operativo es Windows usando Git Bash):\n",
    ">```shell\n",
    ">time python src/programacion_dinamica-1.py\n",
    ">```\n",
    "Aprovechando el tiempo de consulta de los diccionarios optimizamos el tiempo de ejecución para calcular un número $n$ de Fibonacci.\n",
    "\n",
    ">**Hint:** Para aumentar el tamaño de recursión y no sea un límite, añadimos la siguiente línea de código:\n",
    ">```python\n",
    ">sys.setrecursionlimit(10002)\n",
    ">```\n",
    "\n",
    "> Sitio Web para observar como funciona ambos algoritmos: [Dynamic Programming (Fibonacci)](https://www.cs.usfca.edu/~galles/visualization/DPFib.html)\n"
   ]
  },
  {
   "cell_type": "markdown",
   "metadata": {},
   "source": [
    "### Optimización Especial"
   ]
  },
  {
   "cell_type": "code",
   "execution_count": 2,
   "metadata": {},
   "outputs": [],
   "source": [
    "from functools import lru_cache\n",
    "\n",
    "@lru_cache(maxsize=None)\n",
    "def fib(n):\n",
    "    if n < 2:\n",
    "        return n\n",
    "    return fib(n-1) + fib(n-2)"
   ]
  },
  {
   "cell_type": "markdown",
   "metadata": {},
   "source": [
    "### Código \n",
    "[**File**: programacion_dinamica-1.py](src/programacion_dinamica-1.py)"
   ]
  },
  {
   "cell_type": "code",
   "execution_count": 3,
   "metadata": {},
   "outputs": [
    {
     "name": "stdout",
     "output_type": "stream",
     "text": [
      "Number: 1 -> Result: 1\n"
     ]
    }
   ],
   "source": [
    "import sys\n",
    "from functools import lru_cache\n",
    "\n",
    "def fibonacci_recursivo(n):\n",
    "    if n == 0 or n == 1:\n",
    "        return 1\n",
    "\n",
    "    return fibonacci_recursivo(n - 1) + fibonacci_recursivo(n - 2)\n",
    "\n",
    "\n",
    "def fibonacci_dinamico(n, memo = {}):\n",
    "    if n == 0 or n == 1:\n",
    "        return 1\n",
    "\n",
    "    try:\n",
    "        return memo[n]\n",
    "    except KeyError:\n",
    "        # Si no esta en el diccionario, lo calculamos y lo guardamos\n",
    "        resultado = fibonacci_dinamico(n - 1, memo) + fibonacci_dinamico(n - 2, memo)\n",
    "        memo[n] = resultado\n",
    "\n",
    "        return resultado\n",
    "\n",
    "@lru_cache(maxsize=None)\n",
    "def fib(n):\n",
    "    if n < 2:\n",
    "        return n\n",
    "    return fib(n-1) + fib(n-2)\n",
    "\n",
    "sys.setrecursionlimit(10002)\n",
    "n = int(input('Escoge un numero: '))\n",
    "# resultado = fibonacci_recursivo(n)\n",
    "resultado = fib(n)\n",
    "# resultado = fibonacci_dinamico(n)\n",
    "print(f\"Number: {n} -> Result: {resultado}\")"
   ]
  },
  {
   "cell_type": "markdown",
   "metadata": {},
   "source": [
    "## Caminos Aleatorios\n",
    "\n",
    "> Caminos Aleatorios:\n",
    "> - Es un tipo de simulación que elige aleatoriamente una decisión dentro de un conjunto de decisiones válidas.\n",
    "> - Se utiliza en muchos campos del conocimiento cuando los sistemas no son deterministas e incluyen elementos de aleatoriedad.\n",
    "\n",
    "La idea viene dado por el movimiento browniano, este es el movimiento aleatorio de partículas suspendidas en un fluido (líquido o gas) debido a colisiones con moléculas del medio. Este fenómeno fue observado por Robert Brown en 1827 y es un ejemplo de un proceso estocástico\n",
    "\n",
    "### Entendiendo la aleatoriedad con Python\n",
    "\n",
    "Se dividio en 3 clases:\n",
    "- ¿Qué es un borracho? *Borracho*\n",
    "- ¿Dónde se mueve este borracho? *Campo*\n",
    "- Concepto abstracto a tráves de un objeto: *Coordenada*."
   ]
  },
  {
   "cell_type": "markdown",
   "metadata": {},
   "source": [
    "**Borracho**, toma cambios en alguna de las coordenadas de forma aleatoria. Cada posible paso tiene igual probabilidad de ocurrencia."
   ]
  },
  {
   "cell_type": "code",
   "execution_count": 4,
   "metadata": {},
   "outputs": [],
   "source": [
    "import random\n",
    "\n",
    "class Borracho:\n",
    "\n",
    "    def __init__(self, nombre):\n",
    "        self.nombre = nombre\n",
    "\n",
    "\n",
    "class BorrachoTradicional(Borracho):\n",
    "\n",
    "    def __init__(self, nombre):\n",
    "        super().__init__(nombre)\n",
    "\n",
    "    def camina(self):\n",
    "        # Igual probabilidad seleccionar cualquier paso\n",
    "        return random.choice([(0, 1), (0, -1), (1, 0), (-1, 0)])"
   ]
  },
  {
   "cell_type": "markdown",
   "metadata": {},
   "source": [
    "**Campo**, muestra (gráfica) los pasos del borracho y limita el área donde se mueve."
   ]
  },
  {
   "cell_type": "code",
   "execution_count": 5,
   "metadata": {},
   "outputs": [],
   "source": [
    "class Campo:\n",
    "\n",
    "    def __init__(self):\n",
    "        self.coordenadas_de_borrachos = {}\n",
    "\n",
    "    def anadir_borracho(self, borracho, coordenada):\n",
    "        \"\"\"\n",
    "        Add Borracho al campo\n",
    "        \"\"\"\n",
    "        self.coordenadas_de_borrachos[borracho] = coordenada\n",
    "\n",
    "    def mover_borracho(self, borracho):\n",
    "        \"\"\"\n",
    "        Mueve el borracho modificando sus coordenadas\n",
    "        \"\"\"\n",
    "        # Genera un paso\n",
    "        delta_x, delta_y = borracho.camina()\n",
    "        # Obtiene las coordenadas del borracho\n",
    "        coordenada_actual = self.coordenadas_de_borrachos[borracho]\n",
    "        # Crea una nueva coordena\n",
    "        nueva_coordenada = coordenada_actual.mover(delta_x, delta_y)\n",
    "        # Modifica la coordena\n",
    "        self.coordenadas_de_borrachos[borracho] = nueva_coordenada\n",
    "\n",
    "    def obtener_coordenada(self, borracho):\n",
    "        \"\"\"\n",
    "        Get Coordenada\n",
    "        \"\"\"\n",
    "        return self.coordenadas_de_borrachos[borracho]"
   ]
  },
  {
   "cell_type": "markdown",
   "metadata": {},
   "source": [
    "**Coordenada**, crea el marco de referencia para el *Borracho* y el *Campo*. Nos permite también calcular la distancia entre una coordena y otra."
   ]
  },
  {
   "cell_type": "code",
   "execution_count": 6,
   "metadata": {},
   "outputs": [],
   "source": [
    "class Coordenada:\n",
    "\n",
    "    def __init__(self, x, y):\n",
    "        self.x = x\n",
    "        self.y = y\n",
    "\n",
    "    def mover(self, delta_x, delta_y):\n",
    "        \"\"\"\n",
    "        Retorna una nueva Coordenada\n",
    "        \"\"\"\n",
    "        return Coordenada(self.x + delta_x, self.y + delta_y)\n",
    "\n",
    "    def distancia(self, otra_coordenada):\n",
    "        \"\"\"\n",
    "        Calcula la distancia Euclidiana\n",
    "        \"\"\"\n",
    "        delta_x = self.x - otra_coordenada.x \n",
    "        delta_y = self.y - otra_coordenada.y \n",
    "\n",
    "        return (delta_x**2 + delta_y**2)**0.5"
   ]
  },
  {
   "cell_type": "markdown",
   "metadata": {},
   "source": [
    "> La simulación genera $n$ cantidad de pasos del borracho. Siempre que hacemos aleatoriedad ejecutamos $m$ simulaciones para $n$ pasos. Para luego obtener las estadísticas necesarias para proponer los resultados de esas observaciones."
   ]
  },
  {
   "cell_type": "code",
   "execution_count": 7,
   "metadata": {},
   "outputs": [],
   "source": [
    "# Librerias a emplear\n",
    "from src.borracho import BorrachoTradicional\n",
    "from src.campo import Campo \n",
    "from src.coordenada import Coordenada \n",
    "\n",
    "# Para graficar\n",
    "from bokeh.plotting import figure, show"
   ]
  },
  {
   "cell_type": "code",
   "execution_count": 8,
   "metadata": {},
   "outputs": [],
   "source": [
    "def caminata(campo, borracho, pasos):\n",
    "    # Coordinate init\n",
    "    inicio = campo.obtener_coordenada(borracho)\n",
    "\n",
    "    for _ in range(pasos):\n",
    "        # Move borracho\n",
    "        campo.mover_borracho(borracho)\n",
    "\n",
    "    # Return distance between origin and end\n",
    "    return inicio.distancia(campo.obtener_coordenada(borracho))"
   ]
  },
  {
   "cell_type": "code",
   "execution_count": 9,
   "metadata": {},
   "outputs": [],
   "source": [
    "def simular_caminata(pasos, numero_de_intentos, tipo_de_borracho):\n",
    "    \n",
    "    # Add Borracho\n",
    "    borracho = tipo_de_borracho(nombre='Rigo')\n",
    "    # Crear origen\n",
    "    origen = Coordenada(0, 0)\n",
    "    # Save distance\n",
    "    distancias = []\n",
    "\n",
    "    for _ in range(numero_de_intentos):\n",
    "        # Creo el campo\n",
    "        campo = Campo()\n",
    "        # Ubico el borracho\n",
    "        campo.anadir_borracho(borracho, origen)\n",
    "        # Caminar y devuelve la distancia caminda desde el origen\n",
    "        simulacion_caminata = caminata(campo, borracho, pasos)\n",
    "        # Save\n",
    "        distancias.append(round(simulacion_caminata, 1))\n",
    "\n",
    "    return distancias"
   ]
  },
  {
   "cell_type": "code",
   "execution_count": 10,
   "metadata": {},
   "outputs": [],
   "source": [
    "def graficar(x, y):\n",
    "    \"\"\"\n",
    "    Plot n vs Distancia media\n",
    "    \"\"\"\n",
    "    grafica = figure(title='Camino aleatorio', x_axis_label='pasos', \n",
    "                     y_axis_label='distancia')\n",
    "    grafica.line(x, y, legend_label='distancia media')\n",
    "\n",
    "    show(grafica)"
   ]
  },
  {
   "cell_type": "code",
   "execution_count": 11,
   "metadata": {},
   "outputs": [],
   "source": [
    "def main(distancias_de_caminata, numero_de_intentos, tipo_de_borracho):\n",
    "\n",
    "    # Save mean distance\n",
    "    distancias_media_por_caminata = []\n",
    "\n",
    "    for pasos in distancias_de_caminata:\n",
    "        distancias = simular_caminata(pasos, numero_de_intentos, tipo_de_borracho)\n",
    "        # Media\n",
    "        distancia_media = round(sum(distancias) / len(distancias), 4)\n",
    "        # Maxima\n",
    "        distancia_maxima = max(distancias)\n",
    "        # Minima\n",
    "        distancia_minima = min(distancias)\n",
    "        # Save\n",
    "        distancias_media_por_caminata.append(distancia_media)\n",
    "        print(f'{tipo_de_borracho.__name__} caminata aleatoria de {pasos} pasos')\n",
    "        print(f'Media = {distancia_media}')\n",
    "        print(f'Max = {distancia_maxima}')\n",
    "        print(f'Min = {distancia_minima}')\n",
    "\n",
    "    graficar(distancias_de_caminata, distancias_media_por_caminata)"
   ]
  },
  {
   "cell_type": "code",
   "execution_count": 12,
   "metadata": {},
   "outputs": [
    {
     "name": "stdout",
     "output_type": "stream",
     "text": [
      "BorrachoTradicional caminata aleatoria de 10 pasos\n",
      "Media = 2.887\n",
      "Max = 7.1\n",
      "Min = 0.0\n",
      "BorrachoTradicional caminata aleatoria de 100 pasos\n",
      "Media = 8.723\n",
      "Max = 21.3\n",
      "Min = 0.0\n",
      "BorrachoTradicional caminata aleatoria de 1000 pasos\n",
      "Media = 29.163\n",
      "Max = 70.7\n",
      "Min = 6.3\n",
      "BorrachoTradicional caminata aleatoria de 10000 pasos\n",
      "Media = 90.969\n",
      "Max = 226.9\n",
      "Min = 15.0\n"
     ]
    }
   ],
   "source": [
    "# Number of steps -> n\n",
    "distancias_de_caminata = [10, 100, 1000, 10000]\n",
    "# Number of Simulations -> m\n",
    "numero_de_intentos = 100\n",
    "\n",
    "main(distancias_de_caminata, numero_de_intentos, BorrachoTradicional)"
   ]
  },
  {
   "cell_type": "markdown",
   "metadata": {},
   "source": [
    "### Resultado de la Simulacion\n",
    "\n",
    "![Distancias Medias](images/camino_aleatorio.png)\n",
    "\n",
    "### Códigos del Borracho\n",
    "\n",
    "|Name File | Link |\n",
    "|-|-|\n",
    "|Borracho| [Borracho](src/borracho.py) |\n",
    "|Campo| [Campo](src/campo.py) |\n",
    "|Coordenadas | [Coordenadas](src/coordenada.py)|\n",
    "|Simulación | [Simulation](src/camino_aleatorio.py)|\n",
    "\n",
    "### Código para solo observar los pasos del borracho\n",
    "\n",
    "> Nota: Aportado por un estudiante de la comunidad de Platzi. (Angel Armando Martínez Blanco)"
   ]
  },
  {
   "cell_type": "code",
   "execution_count": 13,
   "metadata": {},
   "outputs": [],
   "source": [
    "from src.borracho import BorrachoTradicional\n",
    "from src.coordenada import Coordenada\n",
    "from src.campo import Campo\n",
    "\n",
    "from bokeh.plotting import figure, show"
   ]
  },
  {
   "cell_type": "code",
   "execution_count": 14,
   "metadata": {},
   "outputs": [],
   "source": [
    "def graficar(x, y):\n",
    "    figura = figure()\n",
    "    figura.line(x, y)\n",
    "    show(figura)"
   ]
  },
  {
   "cell_type": "code",
   "execution_count": 15,
   "metadata": {},
   "outputs": [],
   "source": [
    "def ejecutar_caminata(campo, borracho, distancia):\n",
    "    x_arreglo = []\n",
    "    y_arreglo = []\n",
    "    x_arreglo.append(campo.obtener_coordenada(borracho).x)\n",
    "    y_arreglo.append(campo.obtener_coordenada(borracho).y)\n",
    "    for _ in range(distancia):\n",
    "        campo.mover_borracho(borracho) #se actualiza las coordenadas del borracho\n",
    "        x_arreglo.append(campo.obtener_coordenada(borracho).x)\n",
    "        y_arreglo.append(campo.obtener_coordenada(borracho).y)\n",
    "    graficar(x_arreglo, y_arreglo)"
   ]
  },
  {
   "cell_type": "code",
   "execution_count": 16,
   "metadata": {},
   "outputs": [],
   "source": [
    "def main(distancia, inicio, borracho):\n",
    "    campo = Campo()\n",
    "    campo.anadir_borracho(borracho, inicio) #poner un borracho en origen\n",
    "    ejecutar_caminata(campo, borracho, distancia)"
   ]
  },
  {
   "cell_type": "code",
   "execution_count": 17,
   "metadata": {},
   "outputs": [],
   "source": [
    "distancia = 100000\n",
    "inicio = Coordenada(0,0)\n",
    "borracho = BorrachoTradicional('Rigo')\n",
    "main(distancia, inicio, borracho)"
   ]
  },
  {
   "cell_type": "markdown",
   "metadata": {},
   "source": [
    "![Resultado Caminta Borracho](images/borracho_caminata.png)"
   ]
  },
  {
   "cell_type": "markdown",
   "metadata": {},
   "source": [
    "# Programas Estocásticos\n",
    "\n",
    "- Un programa es determinístico si cuando se corre con el mismo input produce el mismo output.\n",
    "- Los programas determinísticos son muy importantes, pero existen problemas que no pueden resolverse de esa manera.\n",
    "- La programación estocástica permite introducir aleatoriedad a nuestros programas para crear simulaciones que permiten resolver otro tipo de problemas.\n",
    "\n",
    "> Los programas estocásticos se aprovechan de que las distribuciones probabilísticas de un problema se conocen o pueden ser estimadas."
   ]
  },
  {
   "cell_type": "markdown",
   "metadata": {},
   "source": [
    "## Probabilidades\n",
    "\n",
    "- La probabilidad es una medida de la certidumbre asociada a un evento o suceso futuro y suele expresarse como un número entre 0 y 1.\n",
    "- Una probabilidad de 0 significa que un suceso jamás sucederá.\n",
    "- Una probabilidad de 1 significa que un suceso está garantizado de suceder en el futuro.\n",
    "- Al hablar de probabilidad preguntamos qué fracción de todos los posibles eventos tiene la propiedad que buscamos.\n",
    "- Por eso es importante poder calcular todas las posibilidades de un evento para entender su probabilidad.\n",
    "- La probabilidad de que un evento suceda y de que no suceda es siempre 1.\n",
    "\n",
    "Ley del Complemento:\n",
    "$$P(A) + P(~A) = 1$$ \n",
    "\n",
    "Ley multiplicativa:\n",
    "$$P(A \\text{y} B) = P(A) * P(B)$$\n",
    "\n",
    "\n",
    "\n",
    "Ley aditiva \n",
    "Mutuamente exclusivos:\n",
    "$$P(A \\text{o} B) = P(A) + P(B)$$\n",
    "No exclusiva:\n",
    "$$P(A \\text{o} B) = P(A) + P(B) - P(A \\text{y} B)$$"
   ]
  },
  {
   "cell_type": "code",
   "execution_count": 18,
   "metadata": {},
   "outputs": [],
   "source": [
    "import random"
   ]
  },
  {
   "cell_type": "code",
   "execution_count": 19,
   "metadata": {},
   "outputs": [],
   "source": [
    "def tirar_dado(numero_de_tiros):\n",
    "\n",
    "    secuencia_de_tiros = []\n",
    "\n",
    "    for _ in range(numero_de_tiros):\n",
    "        tiro = random.choice([1, 2, 3, 4, 5, 6])\n",
    "        secuencia_de_tiros.append(tiro)\n",
    "\n",
    "    return secuencia_de_tiros"
   ]
  },
  {
   "cell_type": "code",
   "execution_count": 26,
   "metadata": {},
   "outputs": [],
   "source": [
    "def main(numero_de_tiros, numero_de_intentos):\n",
    "    \n",
    "    tiros = []\n",
    "    for _ in range(numero_de_intentos):\n",
    "        secuencia_de_tiros = tirar_dado(numero_de_tiros)\n",
    "        tiros.append(secuencia_de_tiros)\n",
    "    \n",
    "\n",
    "    tiros_con_1 = 0\n",
    "    for tiro in tiros:\n",
    "        # Para obtener el complemento\n",
    "        # if 1 not in tiro:\n",
    "        if 1 in tiro:\n",
    "            tiros_con_1 += 1\n",
    "\n",
    "    probabilidad_tiros_con_1 = tiros_con_1 / numero_de_intentos\n",
    "    print(f\"Probabilidad de obtener por lo\" +\n",
    "          f\" menos un 1 en {numero_de_tiros}\" +\n",
    "          f\" tiros = {probabilidad_tiros_con_1}\")"
   ]
  },
  {
   "cell_type": "code",
   "execution_count": 27,
   "metadata": {},
   "outputs": [
    {
     "name": "stdout",
     "output_type": "stream",
     "text": [
      "Probabilidad de obtener por lo menos un 1 en 1 tiros = 0.147\n"
     ]
    }
   ],
   "source": [
    "numero_de_tiros = int(input('Cuantas tiros del dado: '))\n",
    "numero_de_intentos = int(input('Cuantas veces correra la simulacion: '))\n",
    "\n",
    "main(numero_de_tiros, numero_de_intentos)"
   ]
  },
  {
   "cell_type": "code",
   "execution_count": 22,
   "metadata": {},
   "outputs": [
    {
     "data": {
      "text/plain": [
       "0.1615055828898458"
      ]
     },
     "execution_count": 22,
     "metadata": {},
     "output_type": "execute_result"
    }
   ],
   "source": [
    "# Probabilidad de no obtener un 1\n",
    "(5/6)**10"
   ]
  },
  {
   "cell_type": "code",
   "execution_count": 23,
   "metadata": {},
   "outputs": [
    {
     "data": {
      "text/plain": [
       "0.8384944171101543"
      ]
     },
     "execution_count": 23,
     "metadata": {},
     "output_type": "execute_result"
    }
   ],
   "source": [
    "# Probabilidad de obtener al menos un 1\n",
    "1 - (5/6)**10"
   ]
  },
  {
   "cell_type": "code",
   "execution_count": 24,
   "metadata": {},
   "outputs": [
    {
     "name": "stdout",
     "output_type": "stream",
     "text": [
      "Probabilidad de no obtener por lo menos un 1 en 1 tiros = 0.824\n"
     ]
    }
   ],
   "source": [
    "## Ejecutar código directamente\n",
    "%run src/probabilidades.py"
   ]
  },
  {
   "cell_type": "markdown",
   "metadata": {},
   "source": [
    "#### Reto \n",
    "> Obtener la probabilidad de obtener un 12 al tirar 2 dados"
   ]
  },
  {
   "cell_type": "markdown",
   "metadata": {},
   "source": [
    "La posicion más justa es tener todas las posibles combinaciones y de ahi elegir la tirada. Eligiendo una única vez por dados para luego sumar no es muy realista, serían como momentos separados."
   ]
  },
  {
   "cell_type": "code",
   "execution_count": 28,
   "metadata": {},
   "outputs": [],
   "source": [
    "def reto(numero_de_tiros, numero_de_intentos):\n",
    "    \n",
    "    all_valores = [2,3,4,5,6,7,3,4,5,6,7,8,4,\n",
    "                   5,6,7,8,9,5,6,7,8,9,10,6,7,\n",
    "                   8,9,10,11,7,8,9,10,11,12]\n",
    "    \n",
    "    tiros = []\n",
    "    for _ in range(numero_de_intentos):\n",
    "        secuencia_de_tiros = []\n",
    "        for _ in range(numero_de_tiros):\n",
    "            tiro = random.choice(all_valores)\n",
    "            secuencia_de_tiros.append(tiro)\n",
    "\n",
    "        tiros.append(secuencia_de_tiros)\n",
    "\n",
    "    tiros_con_12 = 0\n",
    "    for tiro in tiros:\n",
    "        if 12 in tiro:\n",
    "            tiros_con_12 += 1\n",
    "    \n",
    "   \n",
    "    probabilidad_tiros_con_1 = tiros_con_12 / numero_de_intentos\n",
    "    print(f\"Probabilidad de obtener por lo\" +\n",
    "          f\" menos un 12 en {numero_de_tiros}\" +\n",
    "          f\" tiros = {probabilidad_tiros_con_1}\")"
   ]
  },
  {
   "cell_type": "code",
   "execution_count": 31,
   "metadata": {},
   "outputs": [
    {
     "name": "stdout",
     "output_type": "stream",
     "text": [
      "Probabilidad de obtener por lo menos un 12 en 10 tiros = 0.24735\n"
     ]
    }
   ],
   "source": [
    "numero_de_tiros = int(input('Cuantas tiros del dado: '))\n",
    "numero_de_intentos = int(input('Cuantas veces correra la simulacion: '))\n",
    "\n",
    "reto(numero_de_tiros, numero_de_intentos)"
   ]
  },
  {
   "cell_type": "markdown",
   "metadata": {},
   "source": [
    "## Inferencia Estadística\n",
    "\n",
    "- Con las simulaciones podemos calcular las probabilidades de eventos complejos sabiendo las probabilidades de eventos simples.\n",
    "- ¿Qué pasa cuando no sabemos las probabilidades de los eventos simples?\n",
    "- Las técnicas de la Inferencia Estadística nos permiten inferir/concluir las propiedades de una población a partir de una muestra aleatoria.\n",
    "\n",
    "> El principio guía de la Inferencia Estadística es que una muestra aleatoria tiende a exhibir las mismas propiedades que la población de la cual fue extraída. **John Guttag**"
   ]
  },
  {
   "cell_type": "markdown",
   "metadata": {},
   "source": []
  },
  {
   "cell_type": "markdown",
   "metadata": {},
   "source": [
    "# Monte Carlos"
   ]
  },
  {
   "cell_type": "markdown",
   "metadata": {},
   "source": [
    "# Muestro e Intervalos de Confianza"
   ]
  },
  {
   "cell_type": "markdown",
   "metadata": {},
   "source": [
    "# Datos Experimentales"
   ]
  },
  {
   "cell_type": "markdown",
   "metadata": {},
   "source": [
    "# Conclusiones\n"
   ]
  }
 ],
 "metadata": {
  "kernelspec": {
   "display_name": "platzi",
   "language": "python",
   "name": "python3"
  },
  "language_info": {
   "codemirror_mode": {
    "name": "ipython",
    "version": 3
   },
   "file_extension": ".py",
   "mimetype": "text/x-python",
   "name": "python",
   "nbconvert_exporter": "python",
   "pygments_lexer": "ipython3",
   "version": "3.11.11"
  }
 },
 "nbformat": 4,
 "nbformat_minor": 2
}
