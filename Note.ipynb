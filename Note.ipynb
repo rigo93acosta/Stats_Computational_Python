{
 "cells": [
  {
   "cell_type": "markdown",
   "metadata": {},
   "source": [
    "# Curso de Estadística Computacional con Python\n",
    "\n",
    "![Portada](images/Portada.jpeg)\n",
    "\n",
    "# Tabla de Contenido\n",
    "- [Programación dinámica](#programación-dinámica)\n",
    "    - [Optimzación Fibonnaci](#optimización-de-fibonacci)\n",
    "        - [Optimización Especial](#optimización-especial)\n",
    "        - [Código](#código)\n",
    "    - [Caminos Aleatorios](#caminos-aleatorios)\n",
    "        - [Resultados](#resultado-de-la-simulacion)\n",
    "        - [Código](#códigos-del-borracho)\n",
    "        - [Aporte solo pasos del borracho](#código-para-solo-observar-los-pasos-del-borracho)\n",
    "- [Procesos Estocásticos](#procesos-estocásticos)\n",
    "- [Monte Carlos](#monte-carlos)\n",
    "- [Muestreo e Intervalos de Confianza](#muestro-e-intervalos-de-confianza)\n",
    "- [Datos experimentales](#datos-experimentales)\n",
    "- [Conclusiones](#conclusiones)\n",
    "\n",
    "\n",
    "# Programación dinámica\n",
    "\n",
    "**Programación dinámica:** Se escogió para esconder a patrocinadores gubernamentales el hecho que en realidad estaba haciendo Matemáticas. La frase Programación Dinámica es algo que ningún congresista puede oponerse. **Richard Bellman**\n",
    "\n",
    "**Programación dinámica:**\n",
    "- Subsestructura Óptima: Una solución global óptima se puede encontrar al combinar soluciones óptimas de subproblemas locales.\n",
    "- Problemas empalmados: Una solución óptima que involucra resolver el mismo problema en varias ocasiones.\n",
    "\n",
    "**Memoization:**\n",
    "- La memorización es una técnica para guardar cómputos previos y evitar realizarlos nuevamente.\n",
    "- Normalmente se utiliza un diccionario, donde las consultas se pueden hacer en O(1).\n",
    "- Intercambia tiempo por espacio.\n",
    "\n",
    "> Ventaja de consulta de los Sets y Dict de O(1)."
   ]
  },
  {
   "cell_type": "markdown",
   "metadata": {},
   "source": [
    "## Optimización de Fibonacci\n",
    "\n",
    "$$F_n = F_{n-1} + F_{n-2} \\quad \\forall~n > 2$$\n",
    "\n",
    "![Fibonacci](images/Fibonnaci.png)\n",
    "\n",
    "Pero el algoritmo recursivo es ineficiente, debido a que crece de manera exponencial el tiempo de cómputo.\n",
    "\n",
    "> **Hint:** Para medir tiempo de ejecución desde consola (Mi sistema operativo es Windows usando Git Bash):\n",
    ">```shell\n",
    ">time python src/programacion_dinamica-1.py\n",
    ">```\n",
    "Aprovechando el tiempo de consulta de los diccionarios optimizamos el tiempo de ejecución para calcular un número $n$ de Fibonacci.\n",
    "\n",
    ">**Hint:** Para aumentar el tamaño de recursión y no sea un límite, añadimos la siguiente línea de código:\n",
    ">```python\n",
    ">sys.setrecursionlimit(10002)\n",
    ">```\n",
    "\n",
    "> Sitio Web para observar como funciona ambos algoritmos: [Dynamic Programming (Fibonacci)](https://www.cs.usfca.edu/~galles/visualization/DPFib.html)\n"
   ]
  },
  {
   "cell_type": "markdown",
   "metadata": {},
   "source": [
    "### Optimización Especial"
   ]
  },
  {
   "cell_type": "code",
   "execution_count": 2,
   "metadata": {},
   "outputs": [],
   "source": [
    "from functools import lru_cache\n",
    "\n",
    "@lru_cache(maxsize=None)\n",
    "def fib(n):\n",
    "    if n < 2:\n",
    "        return n\n",
    "    return fib(n-1) + fib(n-2)"
   ]
  },
  {
   "cell_type": "markdown",
   "metadata": {},
   "source": [
    "### Código \n",
    "[**File**: programacion_dinamica-1.py](src/programacion_dinamica-1.py)"
   ]
  },
  {
   "cell_type": "code",
   "execution_count": 3,
   "metadata": {},
   "outputs": [
    {
     "name": "stdout",
     "output_type": "stream",
     "text": [
      "Number: 1 -> Result: 1\n"
     ]
    }
   ],
   "source": [
    "import sys\n",
    "from functools import lru_cache\n",
    "\n",
    "def fibonacci_recursivo(n):\n",
    "    if n == 0 or n == 1:\n",
    "        return 1\n",
    "\n",
    "    return fibonacci_recursivo(n - 1) + fibonacci_recursivo(n - 2)\n",
    "\n",
    "\n",
    "def fibonacci_dinamico(n, memo = {}):\n",
    "    if n == 0 or n == 1:\n",
    "        return 1\n",
    "\n",
    "    try:\n",
    "        return memo[n]\n",
    "    except KeyError:\n",
    "        # Si no esta en el diccionario, lo calculamos y lo guardamos\n",
    "        resultado = fibonacci_dinamico(n - 1, memo) + fibonacci_dinamico(n - 2, memo)\n",
    "        memo[n] = resultado\n",
    "\n",
    "        return resultado\n",
    "\n",
    "@lru_cache(maxsize=None)\n",
    "def fib(n):\n",
    "    if n < 2:\n",
    "        return n\n",
    "    return fib(n-1) + fib(n-2)\n",
    "\n",
    "sys.setrecursionlimit(10002)\n",
    "n = int(input('Escoge un numero: '))\n",
    "# resultado = fibonacci_recursivo(n)\n",
    "resultado = fib(n)\n",
    "# resultado = fibonacci_dinamico(n)\n",
    "print(f\"Number: {n} -> Result: {resultado}\")"
   ]
  },
  {
   "cell_type": "markdown",
   "metadata": {},
   "source": [
    "## Caminos Aleatorios\n",
    "\n",
    "> Caminos Aleatorios:\n",
    "> - Es un tipo de simulación que elige aleatoriamente una decisión dentro de un conjunto de decisiones válidas.\n",
    "> - Se utiliza en muchos campos del conocimiento cuando los sistemas no son deterministas e incluyen elementos de aleatoriedad.\n",
    "\n",
    "La idea viene dado por el movimiento browniano, este es el movimiento aleatorio de partículas suspendidas en un fluido (líquido o gas) debido a colisiones con moléculas del medio. Este fenómeno fue observado por Robert Brown en 1827 y es un ejemplo de un proceso estocástico\n",
    "\n",
    "### Entendiendo la aleatoriedad con Python\n",
    "\n",
    "Se dividio en 3 clases:\n",
    "- ¿Qué es un borracho? *Borracho*\n",
    "- ¿Dónde se mueve este borracho? *Campo*\n",
    "- Concepto abstracto a tráves de un objeto: *Coordenada*."
   ]
  },
  {
   "cell_type": "markdown",
   "metadata": {},
   "source": [
    "**Borracho**, toma cambios en alguna de las coordenadas de forma aleatoria. Cada posible paso tiene igual probabilidad de ocurrencia."
   ]
  },
  {
   "cell_type": "code",
   "execution_count": 4,
   "metadata": {},
   "outputs": [],
   "source": [
    "import random\n",
    "\n",
    "class Borracho:\n",
    "\n",
    "    def __init__(self, nombre):\n",
    "        self.nombre = nombre\n",
    "\n",
    "\n",
    "class BorrachoTradicional(Borracho):\n",
    "\n",
    "    def __init__(self, nombre):\n",
    "        super().__init__(nombre)\n",
    "\n",
    "    def camina(self):\n",
    "        # Igual probabilidad seleccionar cualquier paso\n",
    "        return random.choice([(0, 1), (0, -1), (1, 0), (-1, 0)])"
   ]
  },
  {
   "cell_type": "markdown",
   "metadata": {},
   "source": [
    "**Campo**, muestra (gráfica) los pasos del borracho y limita el área donde se mueve."
   ]
  },
  {
   "cell_type": "code",
   "execution_count": 5,
   "metadata": {},
   "outputs": [],
   "source": [
    "class Campo:\n",
    "\n",
    "    def __init__(self):\n",
    "        self.coordenadas_de_borrachos = {}\n",
    "\n",
    "    def anadir_borracho(self, borracho, coordenada):\n",
    "        \"\"\"\n",
    "        Add Borracho al campo\n",
    "        \"\"\"\n",
    "        self.coordenadas_de_borrachos[borracho] = coordenada\n",
    "\n",
    "    def mover_borracho(self, borracho):\n",
    "        \"\"\"\n",
    "        Mueve el borracho modificando sus coordenadas\n",
    "        \"\"\"\n",
    "        # Genera un paso\n",
    "        delta_x, delta_y = borracho.camina()\n",
    "        # Obtiene las coordenadas del borracho\n",
    "        coordenada_actual = self.coordenadas_de_borrachos[borracho]\n",
    "        # Crea una nueva coordena\n",
    "        nueva_coordenada = coordenada_actual.mover(delta_x, delta_y)\n",
    "        # Modifica la coordena\n",
    "        self.coordenadas_de_borrachos[borracho] = nueva_coordenada\n",
    "\n",
    "    def obtener_coordenada(self, borracho):\n",
    "        \"\"\"\n",
    "        Get Coordenada\n",
    "        \"\"\"\n",
    "        return self.coordenadas_de_borrachos[borracho]"
   ]
  },
  {
   "cell_type": "markdown",
   "metadata": {},
   "source": [
    "**Coordenada**, crea el marco de referencia para el *Borracho* y el *Campo*. Nos permite también calcular la distancia entre una coordena y otra."
   ]
  },
  {
   "cell_type": "code",
   "execution_count": 6,
   "metadata": {},
   "outputs": [],
   "source": [
    "class Coordenada:\n",
    "\n",
    "    def __init__(self, x, y):\n",
    "        self.x = x\n",
    "        self.y = y\n",
    "\n",
    "    def mover(self, delta_x, delta_y):\n",
    "        \"\"\"\n",
    "        Retorna una nueva Coordenada\n",
    "        \"\"\"\n",
    "        return Coordenada(self.x + delta_x, self.y + delta_y)\n",
    "\n",
    "    def distancia(self, otra_coordenada):\n",
    "        \"\"\"\n",
    "        Calcula la distancia Euclidiana\n",
    "        \"\"\"\n",
    "        delta_x = self.x - otra_coordenada.x \n",
    "        delta_y = self.y - otra_coordenada.y \n",
    "\n",
    "        return (delta_x**2 + delta_y**2)**0.5"
   ]
  },
  {
   "cell_type": "markdown",
   "metadata": {},
   "source": [
    "> La simulación genera $n$ cantidad de pasos del borracho. Siempre que hacemos aleatoriedad ejecutamos $m$ simulaciones para $n$ pasos. Para luego obtener las estadísticas necesarias para proponer los resultados de esas observaciones."
   ]
  },
  {
   "cell_type": "code",
   "execution_count": 7,
   "metadata": {},
   "outputs": [],
   "source": [
    "# Librerias a emplear\n",
    "from src.borracho import BorrachoTradicional\n",
    "from src.campo import Campo \n",
    "from src.coordenada import Coordenada \n",
    "\n",
    "# Para graficar\n",
    "from bokeh.plotting import figure, show"
   ]
  },
  {
   "cell_type": "code",
   "execution_count": 8,
   "metadata": {},
   "outputs": [],
   "source": [
    "def caminata(campo, borracho, pasos):\n",
    "    # Coordinate init\n",
    "    inicio = campo.obtener_coordenada(borracho)\n",
    "\n",
    "    for _ in range(pasos):\n",
    "        # Move borracho\n",
    "        campo.mover_borracho(borracho)\n",
    "\n",
    "    # Return distance between origin and end\n",
    "    return inicio.distancia(campo.obtener_coordenada(borracho))"
   ]
  },
  {
   "cell_type": "code",
   "execution_count": 9,
   "metadata": {},
   "outputs": [],
   "source": [
    "def simular_caminata(pasos, numero_de_intentos, tipo_de_borracho):\n",
    "    \n",
    "    # Add Borracho\n",
    "    borracho = tipo_de_borracho(nombre='Rigo')\n",
    "    # Crear origen\n",
    "    origen = Coordenada(0, 0)\n",
    "    # Save distance\n",
    "    distancias = []\n",
    "\n",
    "    for _ in range(numero_de_intentos):\n",
    "        # Creo el campo\n",
    "        campo = Campo()\n",
    "        # Ubico el borracho\n",
    "        campo.anadir_borracho(borracho, origen)\n",
    "        # Caminar y devuelve la distancia caminda desde el origen\n",
    "        simulacion_caminata = caminata(campo, borracho, pasos)\n",
    "        # Save\n",
    "        distancias.append(round(simulacion_caminata, 1))\n",
    "\n",
    "    return distancias"
   ]
  },
  {
   "cell_type": "code",
   "execution_count": 10,
   "metadata": {},
   "outputs": [],
   "source": [
    "def graficar(x, y):\n",
    "    \"\"\"\n",
    "    Plot n vs Distancia media\n",
    "    \"\"\"\n",
    "    grafica = figure(title='Camino aleatorio', x_axis_label='pasos', \n",
    "                     y_axis_label='distancia')\n",
    "    grafica.line(x, y, legend_label='distancia media')\n",
    "\n",
    "    show(grafica)"
   ]
  },
  {
   "cell_type": "code",
   "execution_count": 11,
   "metadata": {},
   "outputs": [],
   "source": [
    "def main(distancias_de_caminata, numero_de_intentos, tipo_de_borracho):\n",
    "\n",
    "    # Save mean distance\n",
    "    distancias_media_por_caminata = []\n",
    "\n",
    "    for pasos in distancias_de_caminata:\n",
    "        distancias = simular_caminata(pasos, numero_de_intentos, tipo_de_borracho)\n",
    "        # Media\n",
    "        distancia_media = round(sum(distancias) / len(distancias), 4)\n",
    "        # Maxima\n",
    "        distancia_maxima = max(distancias)\n",
    "        # Minima\n",
    "        distancia_minima = min(distancias)\n",
    "        # Save\n",
    "        distancias_media_por_caminata.append(distancia_media)\n",
    "        print(f'{tipo_de_borracho.__name__} caminata aleatoria de {pasos} pasos')\n",
    "        print(f'Media = {distancia_media}')\n",
    "        print(f'Max = {distancia_maxima}')\n",
    "        print(f'Min = {distancia_minima}')\n",
    "\n",
    "    graficar(distancias_de_caminata, distancias_media_por_caminata)"
   ]
  },
  {
   "cell_type": "code",
   "execution_count": 12,
   "metadata": {},
   "outputs": [
    {
     "name": "stdout",
     "output_type": "stream",
     "text": [
      "BorrachoTradicional caminata aleatoria de 10 pasos\n",
      "Media = 2.887\n",
      "Max = 7.1\n",
      "Min = 0.0\n",
      "BorrachoTradicional caminata aleatoria de 100 pasos\n",
      "Media = 8.723\n",
      "Max = 21.3\n",
      "Min = 0.0\n",
      "BorrachoTradicional caminata aleatoria de 1000 pasos\n",
      "Media = 29.163\n",
      "Max = 70.7\n",
      "Min = 6.3\n",
      "BorrachoTradicional caminata aleatoria de 10000 pasos\n",
      "Media = 90.969\n",
      "Max = 226.9\n",
      "Min = 15.0\n"
     ]
    }
   ],
   "source": [
    "# Number of steps -> n\n",
    "distancias_de_caminata = [10, 100, 1000, 10000]\n",
    "# Number of Simulations -> m\n",
    "numero_de_intentos = 100\n",
    "\n",
    "main(distancias_de_caminata, numero_de_intentos, BorrachoTradicional)"
   ]
  },
  {
   "cell_type": "markdown",
   "metadata": {},
   "source": [
    "### Resultado de la Simulacion\n",
    "\n",
    "![Distancias Medias](images/camino_aleatorio.png)\n",
    "\n",
    "### Códigos del Borracho\n",
    "\n",
    "|Name File | Link |\n",
    "|-|-|\n",
    "|Borracho| [Borracho](src/borracho.py) |\n",
    "|Campo| [Campo](src/campo.py) |\n",
    "|Coordenadas | [Coordenadas](src/coordenada.py)|\n",
    "|Simulación | [Simulation](src/camino_aleatorio.py)|\n",
    "\n",
    "### Código para solo observar los pasos del borracho\n",
    "\n",
    "> Nota: Aportado por un estudiante de la comunidad de Platzi. (Angel Armando Martínez Blanco)"
   ]
  },
  {
   "cell_type": "code",
   "execution_count": 13,
   "metadata": {},
   "outputs": [],
   "source": [
    "from src.borracho import BorrachoTradicional\n",
    "from src.coordenada import Coordenada\n",
    "from src.campo import Campo\n",
    "\n",
    "from bokeh.plotting import figure, show"
   ]
  },
  {
   "cell_type": "code",
   "execution_count": 14,
   "metadata": {},
   "outputs": [],
   "source": [
    "def graficar(x, y):\n",
    "    figura = figure()\n",
    "    figura.line(x, y)\n",
    "    show(figura)"
   ]
  },
  {
   "cell_type": "code",
   "execution_count": 15,
   "metadata": {},
   "outputs": [],
   "source": [
    "def ejecutar_caminata(campo, borracho, distancia):\n",
    "    x_arreglo = []\n",
    "    y_arreglo = []\n",
    "    x_arreglo.append(campo.obtener_coordenada(borracho).x)\n",
    "    y_arreglo.append(campo.obtener_coordenada(borracho).y)\n",
    "    for _ in range(distancia):\n",
    "        campo.mover_borracho(borracho) #se actualiza las coordenadas del borracho\n",
    "        x_arreglo.append(campo.obtener_coordenada(borracho).x)\n",
    "        y_arreglo.append(campo.obtener_coordenada(borracho).y)\n",
    "    graficar(x_arreglo, y_arreglo)"
   ]
  },
  {
   "cell_type": "code",
   "execution_count": 16,
   "metadata": {},
   "outputs": [],
   "source": [
    "def main(distancia, inicio, borracho):\n",
    "    campo = Campo()\n",
    "    campo.anadir_borracho(borracho, inicio) #poner un borracho en origen\n",
    "    ejecutar_caminata(campo, borracho, distancia)"
   ]
  },
  {
   "cell_type": "code",
   "execution_count": 17,
   "metadata": {},
   "outputs": [],
   "source": [
    "distancia = 100000\n",
    "inicio = Coordenada(0,0)\n",
    "borracho = BorrachoTradicional('Rigo')\n",
    "main(distancia, inicio, borracho)"
   ]
  },
  {
   "cell_type": "markdown",
   "metadata": {},
   "source": [
    "![Resultado Caminta Borracho](images/borracho_caminata.png)"
   ]
  },
  {
   "cell_type": "markdown",
   "metadata": {},
   "source": [
    "# Programas Estocásticos\n",
    "\n",
    "- Un programa es determinístico si cuando se corre con el mismo input produce el mismo output.\n",
    "- Los programas determinísticos son muy importantes, pero existen problemas que no pueden resolverse de esa manera.\n",
    "- La programación estocástica permite introducir aleatoriedad a nuestros programas para crear simulaciones que permiten resolver otro tipo de problemas.\n",
    "\n",
    "> Los programas estocásticos se aprovechan de que las distribuciones probabilísticas de un problema se conocen o pueden ser estimadas."
   ]
  },
  {
   "cell_type": "markdown",
   "metadata": {},
   "source": [
    "## Probabilidades\n",
    "\n",
    "- La probabilidad es una medida de la certidumbre asociada a un evento o suceso futuro y suele expresarse como un número entre 0 y 1.\n",
    "- Una probabilidad de 0 significa que un suceso jamás sucederá.\n",
    "- Una probabilidad de 1 significa que un suceso está garantizado de suceder en el futuro.\n",
    "- Al hablar de probabilidad preguntamos qué fracción de todos los posibles eventos tiene la propiedad que buscamos.\n",
    "- Por eso es importante poder calcular todas las posibilidades de un evento para entender su probabilidad.\n",
    "- La probabilidad de que un evento suceda y de que no suceda es siempre 1.\n",
    "\n",
    "Ley del Complemento:\n",
    "$$P(A) + P(~A) = 1$$ \n",
    "\n",
    "Ley multiplicativa:\n",
    "$$P(A \\text{y} B) = P(A) * P(B)$$\n",
    "\n",
    "\n",
    "\n",
    "Ley aditiva \n",
    "Mutuamente exclusivos:\n",
    "$$P(A \\text{o} B) = P(A) + P(B)$$\n",
    "No exclusiva:\n",
    "$$P(A \\text{o} B) = P(A) + P(B) - P(A \\text{y} B)$$"
   ]
  },
  {
   "cell_type": "code",
   "execution_count": 18,
   "metadata": {},
   "outputs": [],
   "source": [
    "import random"
   ]
  },
  {
   "cell_type": "code",
   "execution_count": 19,
   "metadata": {},
   "outputs": [],
   "source": [
    "def tirar_dado(numero_de_tiros):\n",
    "\n",
    "    secuencia_de_tiros = []\n",
    "\n",
    "    for _ in range(numero_de_tiros):\n",
    "        tiro = random.choice([1, 2, 3, 4, 5, 6])\n",
    "        secuencia_de_tiros.append(tiro)\n",
    "\n",
    "    return secuencia_de_tiros"
   ]
  },
  {
   "cell_type": "code",
   "execution_count": 26,
   "metadata": {},
   "outputs": [],
   "source": [
    "def main(numero_de_tiros, numero_de_intentos):\n",
    "    \n",
    "    tiros = []\n",
    "    for _ in range(numero_de_intentos):\n",
    "        secuencia_de_tiros = tirar_dado(numero_de_tiros)\n",
    "        tiros.append(secuencia_de_tiros)\n",
    "    \n",
    "\n",
    "    tiros_con_1 = 0\n",
    "    for tiro in tiros:\n",
    "        # Para obtener el complemento\n",
    "        # if 1 not in tiro:\n",
    "        if 1 in tiro:\n",
    "            tiros_con_1 += 1\n",
    "\n",
    "    probabilidad_tiros_con_1 = tiros_con_1 / numero_de_intentos\n",
    "    print(f\"Probabilidad de obtener por lo\" +\n",
    "          f\" menos un 1 en {numero_de_tiros}\" +\n",
    "          f\" tiros = {probabilidad_tiros_con_1}\")"
   ]
  },
  {
   "cell_type": "code",
   "execution_count": 27,
   "metadata": {},
   "outputs": [
    {
     "name": "stdout",
     "output_type": "stream",
     "text": [
      "Probabilidad de obtener por lo menos un 1 en 1 tiros = 0.147\n"
     ]
    }
   ],
   "source": [
    "numero_de_tiros = int(input('Cuantas tiros del dado: '))\n",
    "numero_de_intentos = int(input('Cuantas veces correra la simulacion: '))\n",
    "\n",
    "main(numero_de_tiros, numero_de_intentos)"
   ]
  },
  {
   "cell_type": "code",
   "execution_count": 22,
   "metadata": {},
   "outputs": [
    {
     "data": {
      "text/plain": [
       "0.1615055828898458"
      ]
     },
     "execution_count": 22,
     "metadata": {},
     "output_type": "execute_result"
    }
   ],
   "source": [
    "# Probabilidad de no obtener un 1\n",
    "(5/6)**10"
   ]
  },
  {
   "cell_type": "code",
   "execution_count": 23,
   "metadata": {},
   "outputs": [
    {
     "data": {
      "text/plain": [
       "0.8384944171101543"
      ]
     },
     "execution_count": 23,
     "metadata": {},
     "output_type": "execute_result"
    }
   ],
   "source": [
    "# Probabilidad de obtener al menos un 1\n",
    "1 - (5/6)**10"
   ]
  },
  {
   "cell_type": "code",
   "execution_count": 24,
   "metadata": {},
   "outputs": [
    {
     "name": "stdout",
     "output_type": "stream",
     "text": [
      "Probabilidad de no obtener por lo menos un 1 en 1 tiros = 0.824\n"
     ]
    }
   ],
   "source": [
    "## Ejecutar código directamente\n",
    "%run src/probabilidades.py"
   ]
  },
  {
   "cell_type": "markdown",
   "metadata": {},
   "source": [
    "#### Reto \n",
    "> Obtener la probabilidad de obtener un 12 al tirar 2 dados\n",
    "\n",
    "La posicion más justa es tener todas las posibles combinaciones y de ahi elegir la tirada. Eligiendo una única vez por dados para luego sumar no es muy realista, serían como momentos separados."
   ]
  },
  {
   "cell_type": "code",
   "execution_count": 28,
   "metadata": {},
   "outputs": [],
   "source": [
    "def reto(numero_de_tiros, numero_de_intentos):\n",
    "    \n",
    "    all_valores = [2,3,4,5,6,7,3,4,5,6,7,8,4,\n",
    "                   5,6,7,8,9,5,6,7,8,9,10,6,7,\n",
    "                   8,9,10,11,7,8,9,10,11,12]\n",
    "    \n",
    "    tiros = []\n",
    "    for _ in range(numero_de_intentos):\n",
    "        secuencia_de_tiros = []\n",
    "        for _ in range(numero_de_tiros):\n",
    "            tiro = random.choice(all_valores)\n",
    "            secuencia_de_tiros.append(tiro)\n",
    "\n",
    "        tiros.append(secuencia_de_tiros)\n",
    "\n",
    "    tiros_con_12 = 0\n",
    "    for tiro in tiros:\n",
    "        if 12 in tiro:\n",
    "            tiros_con_12 += 1\n",
    "    \n",
    "   \n",
    "    probabilidad_tiros_con_1 = tiros_con_12 / numero_de_intentos\n",
    "    print(f\"Probabilidad de obtener por lo\" +\n",
    "          f\" menos un 12 en {numero_de_tiros}\" +\n",
    "          f\" tiros = {probabilidad_tiros_con_1}\")"
   ]
  },
  {
   "cell_type": "code",
   "execution_count": 31,
   "metadata": {},
   "outputs": [
    {
     "name": "stdout",
     "output_type": "stream",
     "text": [
      "Probabilidad de obtener por lo menos un 12 en 10 tiros = 0.24735\n"
     ]
    }
   ],
   "source": [
    "numero_de_tiros = int(input('Cuantas tiros del dado: '))\n",
    "numero_de_intentos = int(input('Cuantas veces correra la simulacion: '))\n",
    "\n",
    "reto(numero_de_tiros, numero_de_intentos)"
   ]
  },
  {
   "cell_type": "markdown",
   "metadata": {},
   "source": [
    "## Inferencia Estadística\n",
    "\n",
    "- Con las simulaciones podemos calcular las probabilidades de eventos complejos sabiendo las probabilidades de eventos simples.\n",
    "- ¿Qué pasa cuando no sabemos las probabilidades de los eventos simples?\n",
    "- Las técnicas de la Inferencia Estadística nos permiten inferir/concluir las propiedades de una población a partir de una muestra aleatoria.\n",
    "\n",
    "> El principio guía de la Inferencia Estadística es que una muestra aleatoria tiende a exhibir las mismas propiedades que la población de la cual fue extraída. **John Guttag**"
   ]
  },
  {
   "cell_type": "markdown",
   "metadata": {},
   "source": [
    "### Proceso\n",
    "\n",
    "De una **Población** obtenemos unas *muestras* representativas de forma aleatoria de la cual podemos obtener **conclusiones**.\n",
    "\n",
    "- Muestro simplea aleatorio: tomamos de manera aleatoria muestras de las población\n",
    "\n",
    "Esta idea válida proviene de la **Ley de los grandes números** donde en pruebas independientes repetidas con la misma probabilidad *p* de un resultado, la fracción de desviaciones de *p* converge a cero conforme las cantidad de pruebas se acerca al infinito. \n",
    "\n",
    "$$P\\left( \n",
    "    \\lim_{n \\to \\infty} \\bar{X}_n = \\mu\n",
    "\\right) = 1$$\n",
    "\n",
    "### Falacia del apostador\n",
    "\n",
    "- La falacia del apostador señala que después de un evento extremo, ocurrirán eventos menos extremos para nivelar la media.\n",
    "\n",
    "- La regresión a la media señala que después de un evento aleatorio extremo, el siguiente evento probablemente será menos extremo."
   ]
  },
  {
   "cell_type": "code",
   "execution_count": 1,
   "metadata": {},
   "outputs": [],
   "source": [
    "import math\n",
    "import random"
   ]
  },
  {
   "cell_type": "markdown",
   "metadata": {},
   "source": [
    "### Media\n",
    "\n",
    "- Es una medida de tendencia central.\n",
    "- Comúnmente es conocida como el promedio.\n",
    "- La media de una población se denota con el símbolo $$\\mu = \\sum_n x_n ~ p(x_n),$$ si la distribución es discreta. La media de una muestra se denota con $$\\bar{x} = \\frac{1}{n} \\sum_{i=1}^n x_i.$$"
   ]
  },
  {
   "cell_type": "code",
   "execution_count": 2,
   "metadata": {},
   "outputs": [],
   "source": [
    "def media(X):\n",
    "    return sum(X) / len(X)"
   ]
  },
  {
   "cell_type": "markdown",
   "metadata": {},
   "source": [
    "### Varianza\n",
    "\n",
    "- La varianza mide qué tan propagados se encuentran un conjunto de valores aleatorios de su media.\n",
    "- Mientras que la media nos da una idea de dónde se encuentran los valores, la varianza nos dice que tan dispersos se encuentran.\n",
    "- La varianza siempre debe entenderse con respecto a la media.\n",
    "\n",
    "$$\\text{VAR}(X) = \\frac{1}{n} \\sum_{i=1}^{n} (x_i - \\mu)^2$$\n",
    "\n",
    "### Desviación estándar\n",
    "- La desviación estándar es la raíz cuadrada de la varianza.\n",
    "- Nos permite entender, también, la propagación y se debe entender siempre relacionado a la media.\n",
    "- La ventaja sobre la varianza es que la desviación estándar está en las mismas unidades que la media.\n",
    "\n",
    "$$\\sigma = \\sqrt{ \\sum_{i=1}^{n} p_i(x_i - \\mu)^2}$$"
   ]
  },
  {
   "cell_type": "code",
   "execution_count": 3,
   "metadata": {},
   "outputs": [],
   "source": [
    "def varianza(X):\n",
    "    mu = media(X)\n",
    "\n",
    "    acumulador = 0\n",
    "    for x in X:\n",
    "        acumulador += (x - mu)**2\n",
    "\n",
    "    return acumulador / len(X)"
   ]
  },
  {
   "cell_type": "code",
   "execution_count": 4,
   "metadata": {},
   "outputs": [],
   "source": [
    "def desviacion_estandar(X):\n",
    "    return math.sqrt(varianza(X))"
   ]
  },
  {
   "cell_type": "code",
   "execution_count": 5,
   "metadata": {},
   "outputs": [
    {
     "name": "stdout",
     "output_type": "stream",
     "text": [
      "Arreglo X: [11, 9, 9, 11, 10, 11, 10, 9, 10, 9, 10, 12, 10, 9, 11, 10, 12, 9, 9, 11]\n",
      "Media = 10.1\n",
      "Varianza = 0.9900000000000002\n",
      "Desviacion estandar = 0.9949874371066201\n"
     ]
    }
   ],
   "source": [
    "X = [random.randint(9, 12) for i in range(20)]\n",
    "mu = media(X)\n",
    "Var = varianza(X)\n",
    "sigma = desviacion_estandar(X)\n",
    "\n",
    "print(f'Arreglo X: {X}')\n",
    "print(f'Media = {mu}')\n",
    "print(f'Varianza = {Var}')\n",
    "print(f'Desviacion estandar = {sigma}')"
   ]
  },
  {
   "cell_type": "markdown",
   "metadata": {},
   "source": [
    "## Distribución Normal\n",
    "\n",
    "- Es una de las distribuciones más recurrentes en cualquier ámbito.\n",
    "- Se define completamente por su media y su desviación estándar.\n",
    "- Permite calcular intervalos de confianza con la regla empírica.\n",
    "\n",
    "$$f(x) = \\frac{1}{\\sigma \\sqrt{2\\pi}} \\exp\\left(-\\frac{1}{2}\\left(\\frac{x-\\mu}{\\sigma}\\right)^2\\right)$$\n",
    "\n",
    "### Regla empírica\n",
    "\n",
    "También conocida como la regla 68-95-99.7. Señala cuál es la dispersión de los datos en una distribución normal a uno, dos y tres sigmas. Permite calcular probabilidades con la densidad de la distribución normal. \n",
    "\n",
    "$$\\text{Pr}(\\mu - 1\\sigma \\le X \\le \\mu + 1\\sigma) \\approx 0.6827$$\n",
    "$$\\text{Pr}(\\mu - 2\\sigma \\le X \\le \\mu + 2\\sigma) \\approx 0.9545$$\n",
    "$$\\text{Pr}(\\mu - 3\\sigma \\le X \\le \\mu + 3\\sigma) \\approx 0.9973$$"
   ]
  },
  {
   "cell_type": "markdown",
   "metadata": {},
   "source": [
    "![Portada](images/empiric_distr.png)"
   ]
  },
  {
   "cell_type": "markdown",
   "metadata": {},
   "source": [
    "# Monte Carlos"
   ]
  },
  {
   "cell_type": "markdown",
   "metadata": {},
   "source": [
    "## ¿Qué son las Simulaciones de Montecarlo?\n",
    "\n",
    "Permite crear simulaciones para predecir el resultado de un problema, además de convertir problemas determinísticos en problemas estocásticos.\n",
    "\n",
    "Es utilizado en gran diversidad de áreas, desde la ingeniería hasta la biología y el derecho."
   ]
  },
  {
   "cell_type": "code",
   "execution_count": 6,
   "metadata": {},
   "outputs": [],
   "source": [
    "import random\n",
    "import collections"
   ]
  },
  {
   "cell_type": "code",
   "execution_count": 7,
   "metadata": {},
   "outputs": [],
   "source": [
    "## Datos\n",
    "PALOS = ['espada', 'corazon', 'rombo', 'trebol']\n",
    "VALORES = ['as', '2', '3', '4', '5', '6', '7', '8', \n",
    "           '9', '10', 'jota', 'reina', 'rey']"
   ]
  },
  {
   "cell_type": "code",
   "execution_count": 8,
   "metadata": {},
   "outputs": [],
   "source": [
    "def crear_baraja():\n",
    "    barajas = []\n",
    "    for palo in PALOS:\n",
    "        for valor in VALORES:\n",
    "            barajas.append((palo, valor))\n",
    "\n",
    "    return barajas"
   ]
  },
  {
   "cell_type": "code",
   "execution_count": 19,
   "metadata": {},
   "outputs": [],
   "source": [
    "def obtener_mano(barajas, tamano_mano):\n",
    "    \n",
    "    mano = random.sample(barajas, tamano_mano)\n",
    "    \n",
    "    return mano"
   ]
  },
  {
   "cell_type": "code",
   "execution_count": 25,
   "metadata": {},
   "outputs": [],
   "source": [
    "def main(tamano_mano, intentos):\n",
    "    barajas = crear_baraja()\n",
    "\n",
    "    manos = []\n",
    "    for _ in range(intentos):\n",
    "        mano = obtener_mano(barajas, tamano_mano)\n",
    "        manos.append(mano)\n",
    "\n",
    "    pares = 0\n",
    "    for mano in manos:\n",
    "        valores = []\n",
    "        for carta in mano:\n",
    "            ## Save value of the card\n",
    "            valores.append(carta[1])\n",
    "        \n",
    "        ## Count the number of times a value is repeated\n",
    "        counter = dict(collections.Counter(valores))\n",
    "        for val in counter.values():\n",
    "            # Almenos un par\n",
    "            if val == 2:\n",
    "            # Para una tercia\n",
    "            # if val == 3:\n",
    "                pares += 1\n",
    "                break\n",
    "\n",
    "    probabilidad_par = pares / intentos\n",
    "    print(\"La probabilidad de obtener un par en una\" +\n",
    "    # print(\"La probabilidad de obtener una tercia en una\" +\n",
    "          f\" mano de {tamano_mano} barajas es {probabilidad_par}\")"
   ]
  },
  {
   "cell_type": "markdown",
   "metadata": {},
   "source": [
    "#### Reto"
   ]
  },
  {
   "cell_type": "code",
   "execution_count": 54,
   "metadata": {},
   "outputs": [],
   "source": [
    "def main_reto(tamano_mano, intentos):\n",
    "    barajas = crear_baraja()\n",
    "\n",
    "    manos = []\n",
    "    for _ in range(intentos):\n",
    "        mano = obtener_mano(barajas, tamano_mano)\n",
    "        manos.append(mano)\n",
    "\n",
    "    valoresNum = {val: i for i, val in enumerate(VALORES, start=1)}\n",
    "    escalera = 0\n",
    "    for mano in manos:\n",
    "        manoNum = [valoresNum[carta[1]] for carta in mano]\n",
    "        valores = sorted(manoNum)  # Obtener y ordenar los valores de la mano\n",
    "        # Comprobar si hay una escalera\n",
    "        if len(valores) == tamano_mano and valores == list(range(valores[0], \n",
    "                                                valores[0] + tamano_mano)):\n",
    "            escalera += 1\n",
    "\n",
    "    probabilidad_escalera = escalera / intentos\n",
    "    print(\"La probabilidad de obtener una escalera en una\" +\n",
    "          f\" mano de {tamano_mano} cartas es {probabilidad_escalera}\")"
   ]
  },
  {
   "cell_type": "code",
   "execution_count": 56,
   "metadata": {},
   "outputs": [
    {
     "name": "stdout",
     "output_type": "stream",
     "text": [
      "La probabilidad de obtener un par en una mano de 5 barajas es 0.489\n"
     ]
    }
   ],
   "source": [
    "tamano_mano = int(input('De cuantas barajas sera la mano: '))\n",
    "intentos = int(input('Cuantos intentos para calcular la probabilidad: '))\n",
    "\n",
    "main(tamano_mano, intentos)"
   ]
  },
  {
   "cell_type": "code",
   "execution_count": 57,
   "metadata": {},
   "outputs": [
    {
     "name": "stdout",
     "output_type": "stream",
     "text": [
      "La probabilidad de obtener una escalera en una mano de 5 cartas es 0.005\n"
     ]
    }
   ],
   "source": [
    "tamano_mano = int(input('De cuantas barajas sera la mano: '))\n",
    "intentos = int(input('Cuantos intentos para calcular la probabilidad: '))\n",
    "\n",
    "main_reto(tamano_mano, intentos)"
   ]
  },
  {
   "cell_type": "markdown",
   "metadata": {},
   "source": [
    "### Cálculo de PI\n",
    "\n",
    "Calcularemos PI con puntos al azar esparcidos en un plano cartesiano utilizando los scripts de desviación estándar y media que creados anteriormente. Queremos tener un 95% de certeza, entonces para ello realizaremos el cálculo para 1/2 del área de un circulo, optimizando nuestros recursos.\n",
    "\n",
    "$$ \\text{Area Cuadrado} = b \\cdot h$$\n",
    "\n",
    "$$ \\text{Area Circulo} = \\pi \\cdot r^2$$"
   ]
  },
  {
   "cell_type": "code",
   "execution_count": 14,
   "metadata": {},
   "outputs": [],
   "source": [
    "import random\n",
    "import math\n",
    "from src.estadisticas import desviacion_estandar, media"
   ]
  },
  {
   "cell_type": "code",
   "execution_count": 62,
   "metadata": {},
   "outputs": [],
   "source": [
    "def aventar_agujas(numero_de_agujas):\n",
    "    adentro_del_circulo = 0\n",
    "\n",
    "    for _ in range(numero_de_agujas):\n",
    "        x = random.random() * random.choice([-1, 1])\n",
    "        y = random.random() * random.choice([-1, 1])\n",
    "        distancia_desde_el_centro = math.sqrt(x**2 + y**2)\n",
    "\n",
    "        if distancia_desde_el_centro <= 1:\n",
    "            adentro_del_circulo += 1\n",
    "\n",
    "    # La variable adentro_del_circulo representa 1/4 del área del círculo,\n",
    "    # y como solo utilizaremos 1/2 vamos a multiplicarlo por 2.\n",
    "    return (2 * adentro_del_circulo) / numero_de_agujas"
   ]
  },
  {
   "cell_type": "code",
   "execution_count": 63,
   "metadata": {},
   "outputs": [],
   "source": [
    "def estimacion(numero_de_agujas, numero_de_intentos):\n",
    "    estimados = []\n",
    "    for _ in range(numero_de_intentos):\n",
    "        estimacion_pi = aventar_agujas(numero_de_agujas)\n",
    "        estimados.append(estimacion_pi)\n",
    "\n",
    "    media_estimados = media(estimados)\n",
    "    sigma = desviacion_estandar(estimados)\n",
    "\n",
    "    # La variable media_estimados tiene los resultados sobre 1/2 del área del\n",
    "    # círculo. Para obtener la estimación de PI completo lo vamos a multiplicar por 2.\n",
    "    print(f\"Est={round(media_estimados, 5) * 2}, \" +\n",
    "          f\"sigma={round(sigma, 5)}, \"  +\n",
    "          f\"agujas={numero_de_agujas}\")\n",
    "\n",
    "    return (media_estimados, sigma)"
   ]
  },
  {
   "cell_type": "code",
   "execution_count": 66,
   "metadata": {},
   "outputs": [],
   "source": [
    "def estimar_pi(precision, numero_de_intentos):\n",
    "    numero_de_agujas = 1000\n",
    "    sigma = precision\n",
    "\n",
    "    while sigma >= precision / 1.96:\n",
    "        media, sigma = estimacion(numero_de_agujas, numero_de_intentos)\n",
    "        numero_de_agujas *= 2\n",
    "\n",
    "    return media*2"
   ]
  },
  {
   "cell_type": "code",
   "execution_count": 67,
   "metadata": {},
   "outputs": [
    {
     "name": "stdout",
     "output_type": "stream",
     "text": [
      "Est=3.14336, sigma=0.02608, agujas=1000\n",
      "Est=3.14218, sigma=0.01803, agujas=2000\n",
      "Est=3.14028, sigma=0.01327, agujas=4000\n",
      "Est=3.1414, sigma=0.00933, agujas=8000\n",
      "Est=3.14182, sigma=0.00655, agujas=16000\n",
      "Est=3.14164, sigma=0.00453, agujas=32000\n"
     ]
    },
    {
     "data": {
      "text/plain": [
       "3.1416414999999995"
      ]
     },
     "execution_count": 67,
     "metadata": {},
     "output_type": "execute_result"
    }
   ],
   "source": [
    "estimar_pi(0.01, 1000)"
   ]
  },
  {
   "cell_type": "markdown",
   "metadata": {},
   "source": [
    "# Muestro e Intervalos de Confianza"
   ]
  },
  {
   "cell_type": "markdown",
   "metadata": {},
   "source": [
    "## Muestreo \n",
    "\n",
    "Hay ocasiones en la que no tenemos acceso a toda la población que queremos explorar. Uno de los grandes descubrimientos de la estadística es que las muestras aleatorias tienden a mostrar las mismas propiedades de la población objetivo. El tipo de muestreo que hemos hecho hasta ahora es muestreo probabilístico.\n",
    "\n",
    "En un muestreo aleatorio cualquier miembro de la población tiene la misma probabilidad de ser escogido. En un muestreo **estratificado** tomamos en consideración las características de la población para partirla en subgrupos y luego tomamos muestras de cada subgrupo, esto incrementa la probabilidad de que el muestreo sea representativo de la población.\n",
    "\n",
    "## Teorema del límite central\n",
    "\n",
    "Es uno de los teoremas más importantes de la estadística. Establece que muestras aleatorias de cualquier distribución van a tener una distribución normal. Permite entender cualquier distribución como la distribución normal de sus medias y eso nos permite aplicar todo lo que sabemos de distribuciones normales.\n",
    "\n",
    "Mientras más muestras obtengamos, mayor será la similitud con la distribución normal Mientras la muestra sea de mayor tamaño, la desviación estándar será menor.\n",
    "\n",
    "![Sampling_rule](images/samping_rule.png)"
   ]
  },
  {
   "cell_type": "code",
   "execution_count": 68,
   "metadata": {},
   "outputs": [
    {
     "data": {
      "image/png": "[encoded data removed]",
      "text/plain": [
       "<Figure size 640x480 with 1 Axes>"
      ]
     },
     "metadata": {},
     "output_type": "display_data"
    }
   ],
   "source": [
    "import numpy as np\n",
    "import matplotlib.pyplot as plt\n",
    "\n",
    "def tirar_dados(n_tiradas):\n",
    "    # Simula la tirada de 2 dados y devuelve las sumas\n",
    "    resultado = [np.random.randint(1, 7) + np.random.randint(1, 7) for _ in range(n_tiradas)]\n",
    "    return resultado\n",
    "\n",
    "def graficar_histograma(data, n_tiradas):\n",
    "    # Crea un histograma de los resultados\n",
    "    plt.hist(data, bins=np.arange(2, 14) - 0.5, density=True, \n",
    "             alpha=0.6, color='g', label='Distribución de Sumas')\n",
    "    \n",
    "    # Graficar la distribución normal\n",
    "    mu = np.mean(data)\n",
    "    sigma = np.std(data)\n",
    "    x = np.linspace(2, 12, 100)\n",
    "    y = (1 / (sigma * np.sqrt(2 * np.pi))) * np.exp(-0.5 * ((x - mu) / sigma) ** 2)\n",
    "    plt.plot(x, y, color='red', label='Distribución Normal')\n",
    "\n",
    "    # Personalizar el gráfico\n",
    "    plt.title(f'Histograma de Sumas de {n_tiradas} Tiradas de 2 Dados')\n",
    "    plt.xlabel('Suma')\n",
    "    plt.ylabel('Frecuencia Relativa')\n",
    "    plt.xticks(range(2, 13))\n",
    "    plt.legend()\n",
    "    plt.grid()\n",
    "    plt.show()\n",
    "\n",
    "def main():\n",
    "    n_tiradas = 10000  # Número de tiradas de dados\n",
    "    resultados = tirar_dados(n_tiradas)\n",
    "    graficar_histograma(resultados, n_tiradas)\n",
    "\n",
    "main()"
   ]
  },
  {
   "cell_type": "markdown",
   "metadata": {},
   "source": [
    "# Datos Experimentales"
   ]
  },
  {
   "cell_type": "markdown",
   "metadata": {},
   "source": [
    "### ¿Cómo trabajar con datos experimentales?\n",
    "\n",
    "Los datos experimentales son aquellos que se generan a través del método científico.\n",
    "\n",
    "- Con el método científico es necesario comenzar con una teoría o hipótesis sobre el resultado al que se quiere llegar.\n",
    "- Basado en la hipótesis se debe crear un experimento para validad o falsear la hipótesis.\n",
    "- Se valida o falsea una hipótesis midiendo la diferencia entre las mediciones experimentales y aquellas mediciones predichas por la hipótesis."
   ]
  },
  {
   "cell_type": "markdown",
   "metadata": {},
   "source": [
    "### El método científico y la hipótesis\n",
    "\n",
    "¿Cómo se vinculan la teoría y la experimentación en el método científico? El punto de partida es siempre una hipótesis o teoría, posibilitando la creación de experimentos diseñados objetivamente para su comprobación. En este proceso, es fundamental abordar la experimentación sin prejuicios, buscando la verdad de la hipótesis sin intentar forzar los resultados a favor de nuestras creencias iniciales.\n",
    "\n",
    "### Diseño y ejecución de experimentos\n",
    "\n",
    "¿Cuál es la importancia del diseño y ejecución de experimentos? Una vez formulada la hipótesis, se procede a diseñar un experimento que permita confirmarla o refutarla. La ejecución de dicho experimento proporciona datos que, al compararlos con las predicciones teóricas, nos indican si la teoría se sostiene ante la evidencia empírica o si, por el contrario, debe ser cuestionada o incluso descartada.\n",
    "\n",
    "### Comparación entre teoría y datos experimentales\n",
    "\n",
    "¿Qué sucede cuando se comparan los datos experimentales con las teorías? A lo largo de la historia, muchas teorías han sido confirmadas a través de experimentos, como es el caso de la mecánica cuántica y la teoría general de la relatividad. Sin embargo, el hecho de que estas teorías sean incompatibles entre sí, plantea desafíos significativos e invita a profundizar en el conocimiento y la investigación científica."
   ]
  },
  {
   "cell_type": "markdown",
   "metadata": {},
   "source": [
    "## Regresión Lineal\n",
    "\n",
    "La regresión lineal nos permite aproximar una función a un conjunto de datos obtenidos de manera experimental. No necesariamente permite aproximar funciones lineales, sino que sus variantes permiten aproximar cualquier **función polinómica**."
   ]
  },
  {
   "cell_type": "code",
   "execution_count": 69,
   "metadata": {},
   "outputs": [
    {
     "name": "stdout",
     "output_type": "stream",
     "text": [
      "[0.96666667 1.13333333]\n"
     ]
    }
   ],
   "source": [
    "import numpy as np\n",
    "x = np.array([0, 1, 2, 3, 4, 5, 6, 7, 8])\n",
    "y = np.array([1, 2, 3, 5, 4, 6, 8, 7, 9])\n",
    "\n",
    "coeffs = np.polyfit(x, y, 1)\n",
    "print(coeffs)"
   ]
  },
  {
   "cell_type": "code",
   "execution_count": 70,
   "metadata": {},
   "outputs": [],
   "source": [
    "m = coeffs[0]\n",
    "b = coeffs[1]\n",
    "est_y = (m * x) + b"
   ]
  },
  {
   "cell_type": "code",
   "execution_count": 73,
   "metadata": {},
   "outputs": [
    {
     "data": {
      "image/png": "[encoded data removed]",
      "text/plain": [
       "<Figure size 640x480 with 1 Axes>"
      ]
     },
     "metadata": {},
     "output_type": "display_data"
    }
   ],
   "source": [
    "import matplotlib.pyplot as plt\n",
    "plt.plot(x, est_y)\n",
    "plt.scatter(x, y, color='red', marker='*')\n",
    "plt.show()"
   ]
  },
  {
   "cell_type": "markdown",
   "metadata": {},
   "source": [
    "# Atención\n",
    "\n",
    "Este tutorial es basado en el  Curso de Estadística Computacional con Python de Platzi."
   ]
  }
 ],
 "metadata": {
  "kernelspec": {
   "display_name": "platzi",
   "language": "python",
   "name": "python3"
  },
  "language_info": {
   "codemirror_mode": {
    "name": "ipython",
    "version": 3
   },
   "file_extension": ".py",
   "mimetype": "text/x-python",
   "name": "python",
   "nbconvert_exporter": "python",
   "pygments_lexer": "ipython3",
   "version": "3.11.11"
  }
 },
 "nbformat": 4,
 "nbformat_minor": 2
}
